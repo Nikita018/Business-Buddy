{
 "cells": [
  {
   "cell_type": "code",
   "execution_count": 1,
   "metadata": {},
   "outputs": [],
   "source": [
    "import pandas as pd\n",
    "import sqlite3\n",
    "\n",
    "df = pd.read_json(\"~/Downloads/yelp_academic_dataset_tip.json\", lines=True)\n",
    "conn = sqlite3.connect('yelp_reviews.db')\n",
    "df.to_sql('tips', conn, if_exists='replace', index=False)\n",
    "\n",
    "df = pd.read_json(\"/Users/saurabh7/Downloads/yelp_academic_dataset_business.json\", lines=True)\n",
    "conn = sqlite3.connect('yelp_reviews.db')\n",
    "df.drop(columns=['attributes', 'hours']).to_sql('business', conn, if_exists='replace', index=False)\n",
    "\n",
    "df = pd.read_json(\"/Users/saurabh7/Downloads/yelp_academic_dataset_checkin.json\", lines=True)\n",
    "conn = sqlite3.connect('yelp_reviews.db')\n",
    "df.to_sql('checkin', conn, if_exists='replace', index=False)"
   ]
  }
 ],
 "metadata": {
  "kernelspec": {
   "display_name": "Python 3",
   "language": "python",
   "name": "python3"
  },
  "language_info": {
   "codemirror_mode": {
    "name": "ipython",
    "version": 3
   },
   "file_extension": ".py",
   "mimetype": "text/x-python",
   "name": "python",
   "nbconvert_exporter": "python",
   "pygments_lexer": "ipython3",
   "version": "3.7.3"
  }
 },
 "nbformat": 4,
 "nbformat_minor": 2
}
