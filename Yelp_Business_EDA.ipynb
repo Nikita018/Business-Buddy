{
 "cells": [
  {
   "cell_type": "code",
   "execution_count": 2,
   "metadata": {},
   "outputs": [
    {
     "name": "stdout",
     "output_type": "stream",
     "text": [
      "[(192609,)]\n"
     ]
    }
   ],
   "source": [
    "import sqlite3 \n",
    "import pandas as pd\n",
    "df = pd.read_json('yelp_academic_dataset_business.json', lines=True)\n",
    "df = df.drop(columns = ['attributes','hours'])\n",
    "conn = sqlite3.connect('eas503project.db')\n",
    "df.to_sql('business',conn,if_exists='replace', index=False)\n",
    "c = conn.cursor()\n",
    "c.execute(\"SELECT COUNT(*) FROM business\")\n",
    "results = c.fetchall()\n",
    "print(results)"
   ]
  },
  {
   "cell_type": "code",
   "execution_count": 61,
   "metadata": {},
   "outputs": [
    {
     "data": {
      "text/plain": [
       "192127"
      ]
     },
     "execution_count": 61,
     "metadata": {},
     "output_type": "execute_result"
    }
   ],
   "source": [
    "na = df.isna().sum()\n",
    "#print(na) # 482 rows do not vategory values since its only 0.2% of the data, we will be removing all rows containing no data for business categories\n",
    "business = df.dropna()\n",
    "len(business) # 192127 rows remaining after dropping all rows having NA values"
   ]
  },
  {
   "cell_type": "code",
   "execution_count": 5,
   "metadata": {},
   "outputs": [
    {
     "data": {
      "text/html": [
       "<div>\n",
       "<style scoped>\n",
       "    .dataframe tbody tr th:only-of-type {\n",
       "        vertical-align: middle;\n",
       "    }\n",
       "\n",
       "    .dataframe tbody tr th {\n",
       "        vertical-align: top;\n",
       "    }\n",
       "\n",
       "    .dataframe thead th {\n",
       "        text-align: right;\n",
       "    }\n",
       "</style>\n",
       "<table border=\"1\" class=\"dataframe\">\n",
       "  <thead>\n",
       "    <tr style=\"text-align: right;\">\n",
       "      <th></th>\n",
       "      <th>address</th>\n",
       "      <th>business_id</th>\n",
       "      <th>categories</th>\n",
       "      <th>city</th>\n",
       "      <th>is_open</th>\n",
       "      <th>latitude</th>\n",
       "      <th>longitude</th>\n",
       "      <th>name</th>\n",
       "      <th>postal_code</th>\n",
       "      <th>review_count</th>\n",
       "      <th>stars</th>\n",
       "      <th>state</th>\n",
       "    </tr>\n",
       "  </thead>\n",
       "  <tbody>\n",
       "    <tr>\n",
       "      <th>0</th>\n",
       "      <td>2818 E Camino Acequia Drive</td>\n",
       "      <td>1SWheh84yJXfytovILXOAQ</td>\n",
       "      <td>Golf, Active Life</td>\n",
       "      <td>Phoenix</td>\n",
       "      <td>0</td>\n",
       "      <td>33.522143</td>\n",
       "      <td>-112.018481</td>\n",
       "      <td>Arizona Biltmore Golf Club</td>\n",
       "      <td>85016</td>\n",
       "      <td>5</td>\n",
       "      <td>3.0</td>\n",
       "      <td>AZ</td>\n",
       "    </tr>\n",
       "    <tr>\n",
       "      <th>1</th>\n",
       "      <td>30 Eglinton Avenue W</td>\n",
       "      <td>QXAEGFB4oINsVuTFxEYKFQ</td>\n",
       "      <td>Specialty Food, Restaurants, Dim Sum, Imported...</td>\n",
       "      <td>Mississauga</td>\n",
       "      <td>1</td>\n",
       "      <td>43.605499</td>\n",
       "      <td>-79.652289</td>\n",
       "      <td>Emerald Chinese Restaurant</td>\n",
       "      <td>L5R 3E7</td>\n",
       "      <td>128</td>\n",
       "      <td>2.5</td>\n",
       "      <td>ON</td>\n",
       "    </tr>\n",
       "    <tr>\n",
       "      <th>2</th>\n",
       "      <td>10110 Johnston Rd, Ste 15</td>\n",
       "      <td>gnKjwL_1w79qoiV3IC_xQQ</td>\n",
       "      <td>Sushi Bars, Restaurants, Japanese</td>\n",
       "      <td>Charlotte</td>\n",
       "      <td>1</td>\n",
       "      <td>35.092564</td>\n",
       "      <td>-80.859132</td>\n",
       "      <td>Musashi Japanese Restaurant</td>\n",
       "      <td>28210</td>\n",
       "      <td>170</td>\n",
       "      <td>4.0</td>\n",
       "      <td>NC</td>\n",
       "    </tr>\n",
       "    <tr>\n",
       "      <th>3</th>\n",
       "      <td>15655 W Roosevelt St, Ste 237</td>\n",
       "      <td>xvX2CttrVhyG2z1dFg_0xw</td>\n",
       "      <td>Insurance, Financial Services</td>\n",
       "      <td>Goodyear</td>\n",
       "      <td>1</td>\n",
       "      <td>33.455613</td>\n",
       "      <td>-112.395596</td>\n",
       "      <td>Farmers Insurance - Paul Lorenz</td>\n",
       "      <td>85338</td>\n",
       "      <td>3</td>\n",
       "      <td>5.0</td>\n",
       "      <td>AZ</td>\n",
       "    </tr>\n",
       "    <tr>\n",
       "      <th>4</th>\n",
       "      <td>4209 Stuart Andrew Blvd, Ste F</td>\n",
       "      <td>HhyxOkGAM07SRYtlQ4wMFQ</td>\n",
       "      <td>Plumbing, Shopping, Local Services, Home Servi...</td>\n",
       "      <td>Charlotte</td>\n",
       "      <td>1</td>\n",
       "      <td>35.190012</td>\n",
       "      <td>-80.887223</td>\n",
       "      <td>Queen City Plumbing</td>\n",
       "      <td>28217</td>\n",
       "      <td>4</td>\n",
       "      <td>4.0</td>\n",
       "      <td>NC</td>\n",
       "    </tr>\n",
       "  </tbody>\n",
       "</table>\n",
       "</div>"
      ],
      "text/plain": [
       "                          address             business_id  \\\n",
       "0     2818 E Camino Acequia Drive  1SWheh84yJXfytovILXOAQ   \n",
       "1            30 Eglinton Avenue W  QXAEGFB4oINsVuTFxEYKFQ   \n",
       "2       10110 Johnston Rd, Ste 15  gnKjwL_1w79qoiV3IC_xQQ   \n",
       "3   15655 W Roosevelt St, Ste 237  xvX2CttrVhyG2z1dFg_0xw   \n",
       "4  4209 Stuart Andrew Blvd, Ste F  HhyxOkGAM07SRYtlQ4wMFQ   \n",
       "\n",
       "                                          categories         city  is_open  \\\n",
       "0                                  Golf, Active Life      Phoenix        0   \n",
       "1  Specialty Food, Restaurants, Dim Sum, Imported...  Mississauga        1   \n",
       "2                  Sushi Bars, Restaurants, Japanese    Charlotte        1   \n",
       "3                      Insurance, Financial Services     Goodyear        1   \n",
       "4  Plumbing, Shopping, Local Services, Home Servi...    Charlotte        1   \n",
       "\n",
       "    latitude   longitude                             name postal_code  \\\n",
       "0  33.522143 -112.018481       Arizona Biltmore Golf Club       85016   \n",
       "1  43.605499  -79.652289       Emerald Chinese Restaurant     L5R 3E7   \n",
       "2  35.092564  -80.859132      Musashi Japanese Restaurant       28210   \n",
       "3  33.455613 -112.395596  Farmers Insurance - Paul Lorenz       85338   \n",
       "4  35.190012  -80.887223              Queen City Plumbing       28217   \n",
       "\n",
       "   review_count  stars state  \n",
       "0             5    3.0    AZ  \n",
       "1           128    2.5    ON  \n",
       "2           170    4.0    NC  \n",
       "3             3    5.0    AZ  \n",
       "4             4    4.0    NC  "
      ]
     },
     "execution_count": 5,
     "metadata": {},
     "output_type": "execute_result"
    }
   ],
   "source": [
    "business.head()"
   ]
  },
  {
   "cell_type": "code",
   "execution_count": 6,
   "metadata": {
    "scrolled": true
   },
   "outputs": [
    {
     "data": {
      "text/html": [
       "<div>\n",
       "<style scoped>\n",
       "    .dataframe tbody tr th:only-of-type {\n",
       "        vertical-align: middle;\n",
       "    }\n",
       "\n",
       "    .dataframe tbody tr th {\n",
       "        vertical-align: top;\n",
       "    }\n",
       "\n",
       "    .dataframe thead th {\n",
       "        text-align: right;\n",
       "    }\n",
       "</style>\n",
       "<table border=\"1\" class=\"dataframe\">\n",
       "  <thead>\n",
       "    <tr style=\"text-align: right;\">\n",
       "      <th></th>\n",
       "      <th>address</th>\n",
       "      <th>business_id</th>\n",
       "      <th>categories</th>\n",
       "      <th>city</th>\n",
       "      <th>is_open</th>\n",
       "      <th>latitude</th>\n",
       "      <th>longitude</th>\n",
       "      <th>name</th>\n",
       "      <th>postal_code</th>\n",
       "      <th>review_count</th>\n",
       "      <th>stars</th>\n",
       "      <th>state</th>\n",
       "    </tr>\n",
       "  </thead>\n",
       "  <tbody>\n",
       "    <tr>\n",
       "      <th>82250</th>\n",
       "      <td>3655 Las Vegas Blvd S</td>\n",
       "      <td>4JNXUYY8wbaaDmk3BPzlWw</td>\n",
       "      <td>Food, French, Breakfast &amp; Brunch, Restaurants,...</td>\n",
       "      <td>Las Vegas</td>\n",
       "      <td>1</td>\n",
       "      <td>36.112859</td>\n",
       "      <td>-115.172434</td>\n",
       "      <td>Mon Ami Gabi</td>\n",
       "      <td>89109</td>\n",
       "      <td>8348</td>\n",
       "      <td>4.0</td>\n",
       "      <td>NV</td>\n",
       "    </tr>\n",
       "    <tr>\n",
       "      <th>89206</th>\n",
       "      <td>3570 S Las Vegas Blvd</td>\n",
       "      <td>RESDUcs7fIiihp38-d6_6g</td>\n",
       "      <td>Restaurants, Buffets, Sandwiches, Food, Breakf...</td>\n",
       "      <td>Las Vegas</td>\n",
       "      <td>1</td>\n",
       "      <td>36.116113</td>\n",
       "      <td>-115.176222</td>\n",
       "      <td>Bacchanal Buffet</td>\n",
       "      <td>89109</td>\n",
       "      <td>8339</td>\n",
       "      <td>4.0</td>\n",
       "      <td>NV</td>\n",
       "    </tr>\n",
       "    <tr>\n",
       "      <th>35199</th>\n",
       "      <td>3708 Las Vegas Blvd S</td>\n",
       "      <td>K7lWdNUhCbcnEvI0NhGewg</td>\n",
       "      <td>Buffets, Breakfast &amp; Brunch, Restaurants</td>\n",
       "      <td>Las Vegas</td>\n",
       "      <td>1</td>\n",
       "      <td>36.109550</td>\n",
       "      <td>-115.176155</td>\n",
       "      <td>Wicked Spoon</td>\n",
       "      <td>89109</td>\n",
       "      <td>6708</td>\n",
       "      <td>3.5</td>\n",
       "      <td>NV</td>\n",
       "    </tr>\n",
       "    <tr>\n",
       "      <th>58852</th>\n",
       "      <td>3535 Las Vegas Blvd</td>\n",
       "      <td>f4x1YBxkLrZg652xt2KR5g</td>\n",
       "      <td>Breakfast &amp; Brunch, Food, Restaurants, America...</td>\n",
       "      <td>Las Vegas</td>\n",
       "      <td>1</td>\n",
       "      <td>36.118181</td>\n",
       "      <td>-115.171580</td>\n",
       "      <td>Hash House A Go Go</td>\n",
       "      <td>89109</td>\n",
       "      <td>5763</td>\n",
       "      <td>4.0</td>\n",
       "      <td>NV</td>\n",
       "    </tr>\n",
       "    <tr>\n",
       "      <th>141820</th>\n",
       "      <td>3667 Las Vegas Blvd S</td>\n",
       "      <td>cYwJA2A6I12KNkm2rtXd5g</td>\n",
       "      <td>Restaurants, Burgers, American (Traditional)</td>\n",
       "      <td>Las Vegas</td>\n",
       "      <td>0</td>\n",
       "      <td>36.110724</td>\n",
       "      <td>-115.172169</td>\n",
       "      <td>Gordon Ramsay BurGR</td>\n",
       "      <td>89109</td>\n",
       "      <td>5484</td>\n",
       "      <td>4.0</td>\n",
       "      <td>NV</td>\n",
       "    </tr>\n",
       "  </tbody>\n",
       "</table>\n",
       "</div>"
      ],
      "text/plain": [
       "                      address             business_id  \\\n",
       "82250   3655 Las Vegas Blvd S  4JNXUYY8wbaaDmk3BPzlWw   \n",
       "89206   3570 S Las Vegas Blvd  RESDUcs7fIiihp38-d6_6g   \n",
       "35199   3708 Las Vegas Blvd S  K7lWdNUhCbcnEvI0NhGewg   \n",
       "58852     3535 Las Vegas Blvd  f4x1YBxkLrZg652xt2KR5g   \n",
       "141820  3667 Las Vegas Blvd S  cYwJA2A6I12KNkm2rtXd5g   \n",
       "\n",
       "                                               categories       city  is_open  \\\n",
       "82250   Food, French, Breakfast & Brunch, Restaurants,...  Las Vegas        1   \n",
       "89206   Restaurants, Buffets, Sandwiches, Food, Breakf...  Las Vegas        1   \n",
       "35199            Buffets, Breakfast & Brunch, Restaurants  Las Vegas        1   \n",
       "58852   Breakfast & Brunch, Food, Restaurants, America...  Las Vegas        1   \n",
       "141820       Restaurants, Burgers, American (Traditional)  Las Vegas        0   \n",
       "\n",
       "         latitude   longitude                 name postal_code  review_count  \\\n",
       "82250   36.112859 -115.172434         Mon Ami Gabi       89109          8348   \n",
       "89206   36.116113 -115.176222     Bacchanal Buffet       89109          8339   \n",
       "35199   36.109550 -115.176155         Wicked Spoon       89109          6708   \n",
       "58852   36.118181 -115.171580   Hash House A Go Go       89109          5763   \n",
       "141820  36.110724 -115.172169  Gordon Ramsay BurGR       89109          5484   \n",
       "\n",
       "        stars state  \n",
       "82250     4.0    NV  \n",
       "89206     4.0    NV  \n",
       "35199     3.5    NV  \n",
       "58852     4.0    NV  \n",
       "141820    4.0    NV  "
      ]
     },
     "execution_count": 6,
     "metadata": {},
     "output_type": "execute_result"
    }
   ],
   "source": [
    "bus = business.sort_values('review_count', ascending=False)\n",
    "bus.head()"
   ]
  },
  {
   "cell_type": "code",
   "execution_count": 12,
   "metadata": {},
   "outputs": [
    {
     "data": {
      "text/plain": [
       "True"
      ]
     },
     "execution_count": 12,
     "metadata": {},
     "output_type": "execute_result"
    }
   ],
   "source": [
    "#are all business Id's unique?\n",
    "business.business_id.is_unique #business_id is all unique\n"
   ]
  },
  {
   "cell_type": "code",
   "execution_count": 26,
   "metadata": {},
   "outputs": [
    {
     "data": {
      "text/plain": [
       "1    158064\n",
       "0     34063\n",
       "Name: is_open, dtype: int64"
      ]
     },
     "execution_count": 26,
     "metadata": {},
     "output_type": "execute_result"
    }
   ],
   "source": [
    "# How many business are open?\n",
    "business['is_open'].value_counts()\n",
    "# 158064 are open; rest 34063 business are closed"
   ]
  },
  {
   "cell_type": "code",
   "execution_count": 54,
   "metadata": {},
   "outputs": [
    {
     "data": {
      "image/png": "[encoded data removed]",
      "text/plain": [
       "<Figure size 1440x720 with 1 Axes>"
      ]
     },
     "metadata": {
      "needs_background": "light"
     },
     "output_type": "display_data"
    }
   ],
   "source": [
    "# Top 10 cities with the most business parties mentioned in Yelp.\n",
    "import matplotlib.pyplot as plt\n",
    "top50cities = business.city.value_counts().nlargest(50)\n",
    "top50cities.plot(kind=\"barh\", figsize=(20,10))\n",
    "plt.title('Top 50 cities by businesses listed')\n",
    "plt.show()"
   ]
  },
  {
   "cell_type": "code",
   "execution_count": 56,
   "metadata": {},
   "outputs": [
    {
     "data": {
      "image/png": "[encoded data removed]",
      "text/plain": [
       "<Figure size 432x288 with 1 Axes>"
      ]
     },
     "metadata": {
      "needs_background": "light"
     },
     "output_type": "display_data"
    }
   ],
   "source": [
    "# Top 10 most reviewed business\n",
    "top10ReviewedBusiness = business[['name', 'review_count']].sort_values(ascending=False, by=\"review_count\")[0:20]\n",
    "top10ReviewedBusiness.plot(kind='barh',x='name',y='review_count')\n",
    "plt.title('Top 50 cities by businesses')\n",
    "plt.show()"
   ]
  },
  {
   "cell_type": "code",
   "execution_count": 60,
   "metadata": {},
   "outputs": [
    {
     "name": "stdout",
     "output_type": "stream",
     "text": [
      "4.0    35948\n",
      "3.5    34972\n",
      "5.0    28197\n",
      "4.5    27293\n",
      "3.0    25969\n",
      "2.5    18754\n",
      "2.0    11373\n",
      "1.5     4908\n",
      "1.0     4713\n",
      "Name: stars, dtype: int64\n"
     ]
    },
    {
     "data": {
      "image/png": "[encoded data removed]",
      "text/plain": [
       "<Figure size 432x288 with 1 Axes>"
      ]
     },
     "metadata": {
      "needs_background": "light"
     },
     "output_type": "display_data"
    }
   ],
   "source": [
    "stars = business['stars'].value_counts()\n",
    "print(stars)\n",
    "stars.plot(kind='barh')\n",
    "plt.show()"
   ]
  },
  {
   "cell_type": "code",
   "execution_count": null,
   "metadata": {},
   "outputs": [],
   "source": [
    "# Most Popular Business Category\n",
    "categories = business['categories'].str.split(\",\")\n",
    "print(categories)"
   ]
  }
 ],
 "metadata": {
  "kernelspec": {
   "display_name": "Python 3",
   "language": "python",
   "name": "python3"
  },
  "language_info": {
   "codemirror_mode": {
    "name": "ipython",
    "version": 3
   },
   "file_extension": ".py",
   "mimetype": "text/x-python",
   "name": "python",
   "nbconvert_exporter": "python",
   "pygments_lexer": "ipython3",
   "version": "3.7.3"
  }
 },
 "nbformat": 4,
 "nbformat_minor": 2
}
